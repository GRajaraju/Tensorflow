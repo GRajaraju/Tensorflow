{
 "cells": [
  {
   "cell_type": "code",
   "execution_count": 1,
   "metadata": {},
   "outputs": [],
   "source": [
    "import tensorflow as tf\n",
    "import cv2"
   ]
  },
  {
   "cell_type": "code",
   "execution_count": 2,
   "metadata": {},
   "outputs": [],
   "source": [
    "from random import shuffle\n",
    "import glob"
   ]
  },
  {
   "cell_type": "code",
   "execution_count": 28,
   "metadata": {},
   "outputs": [],
   "source": [
    "import numpy as np"
   ]
  },
  {
   "cell_type": "code",
   "execution_count": 31,
   "metadata": {},
   "outputs": [],
   "source": [
    "import sys"
   ]
  },
  {
   "cell_type": "code",
   "execution_count": 13,
   "metadata": {},
   "outputs": [],
   "source": [
    "shuffle_data = True\n",
    "\n",
    "data_path = \"birds_images/train/birds/*.jpg\"\n",
    "\n",
    "# Reading images and labels from the folder\n",
    "images = glob.glob(data_path)\n",
    "\n",
    "labels = [0 if 'cuckoo' in img else 1 for img in images]"
   ]
  },
  {
   "cell_type": "code",
   "execution_count": 18,
   "metadata": {},
   "outputs": [],
   "source": [
    "if shuffle_data:\n",
    "    c = list(zip(images,labels))\n",
    "    shuffle(c)\n",
    "    images, labels = zip(*c)"
   ]
  },
  {
   "cell_type": "code",
   "execution_count": 24,
   "metadata": {},
   "outputs": [],
   "source": [
    "# Dividing data into training and test\n",
    "train_images = images[0:int(0.8*len(images))]\n",
    "train_labels = labels[0:int(0.8*len(labels))]\n",
    "\n",
    "test_images = images[int(0.8*len(images)):]\n",
    "test_labels = labels[int(0.8*len(labels)):]\n"
   ]
  },
  {
   "cell_type": "code",
   "execution_count": 29,
   "metadata": {},
   "outputs": [],
   "source": [
    "def load_image(image):\n",
    "    img = cv2.imread(image)\n",
    "    img = cv2.resize(img, (224,224), interpolation=cv2.INTER_CUBIC)\n",
    "    img = cv2.cvtColor(img, cv2.COLOR_BGR2RGB)\n",
    "    img = img.astype(np.float32)\n",
    "    return img"
   ]
  },
  {
   "cell_type": "code",
   "execution_count": 30,
   "metadata": {},
   "outputs": [],
   "source": [
    "def _int64_feature(value):\n",
    "    return tf.train.Feature(int64_list=tf.train.Int64List(value=[value]))\n",
    "\n",
    "def _bytes_feature(value):\n",
    "    return tf.train.Feature(bytes_list=tf.train.BytesList(value=[value]))"
   ]
  },
  {
   "cell_type": "code",
   "execution_count": 32,
   "metadata": {},
   "outputs": [
    {
     "name": "stdout",
     "output_type": "stream",
     "text": [
      "Train data: 0/24\n",
      "Train data: 10/24\n",
      "Train data: 20/24\n"
     ]
    }
   ],
   "source": [
    "train_filename = 'train.tfrecords'\n",
    "\n",
    "writer = tf.python_io.TFRecordWriter(train_filename)\n",
    "\n",
    "for i in range(len(train_images)):\n",
    "    if not i % 10:\n",
    "        print('Train data: {}/{}'.format(i,len(train_images)))\n",
    "        sys.stdout.flush()\n",
    "        \n",
    "    img = load_image(train_images[i])\n",
    "    label = train_labels[i]\n",
    "    \n",
    "    feature = {'train/label': _int64_feature(label),\n",
    "               'train/image': _bytes_feature(tf.compat.as_bytes(img.tostring()))}\n",
    "    \n",
    "    example = tf.train.Example(features=tf.train.Features(feature=feature))\n",
    "    \n",
    "    writer.write(example.SerializeToString())\n",
    "    \n",
    "writer.close()\n",
    "sys.stdout.flush()"
   ]
  },
  {
   "cell_type": "code",
   "execution_count": 33,
   "metadata": {},
   "outputs": [
    {
     "name": "stdout",
     "output_type": "stream",
     "text": [
      "Test data: 0/6\n"
     ]
    }
   ],
   "source": [
    "test_filename = 'test.tfrecords'\n",
    "\n",
    "writer = tf.python_io.TFRecordWriter(test_filename)\n",
    "\n",
    "for i in range(len(test_images)):\n",
    "    if not i % 10:\n",
    "        print('Test data: {}/{}'.format(i,len(test_images)))\n",
    "        sys.stdout.flush()\n",
    "        \n",
    "    img = load_image(test_images[i])\n",
    "    label = test_labels[i]\n",
    "    \n",
    "    feature = {'test/label': _int64_feature(label),\n",
    "               'test/image': _bytes_feature(tf.compat.as_bytes(img.tostring()))}\n",
    "    \n",
    "    example = tf.train.Example(features=tf.train.Features(feature=feature))\n",
    "    \n",
    "    writer.write(example.SerializeToString())\n",
    "    \n",
    "writer.close()\n",
    "sys.stdout.flush()"
   ]
  },
  {
   "cell_type": "code",
   "execution_count": null,
   "metadata": {},
   "outputs": [],
   "source": []
  }
 ],
 "metadata": {
  "kernelspec": {
   "display_name": "Python 3",
   "language": "python",
   "name": "python3"
  },
  "language_info": {
   "codemirror_mode": {
    "name": "ipython",
    "version": 3
   },
   "file_extension": ".py",
   "mimetype": "text/x-python",
   "name": "python",
   "nbconvert_exporter": "python",
   "pygments_lexer": "ipython3",
   "version": "3.5.1"
  }
 },
 "nbformat": 4,
 "nbformat_minor": 2
}
